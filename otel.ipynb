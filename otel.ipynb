{
 "cells": [
  {
   "cell_type": "code",
   "execution_count": 1,
   "id": "66678506",
   "metadata": {},
   "outputs": [],
   "source": [
    "# import tkinter\n",
    "from tkinter import *\n",
    " \n",
    "from tkinter import messagebox\n",
    " \n",
    "pencere = Tk()\n",
    " \n",
    "pencere.title(\"Otel Tahmin Uygulaması\")\n",
    "pencere.geometry(\"450x700\")\n",
    "\n",
    "uygulama = Frame(pencere, bg = \"pink\")\n",
    "uygulama.grid()\n",
    " \n",
    "etiket = Label(uygulama,text=\"Oda Sayısı\", bg = \"pink\")\n",
    "etiket.grid(padx=5, pady=10)\n",
    "\n",
    "E1 = Entry(uygulama, bd =3)\n",
    "E1.grid(padx=10, pady=10)\n",
    "\n",
    "etiket1 = Label(uygulama,text=\"Banyo Saysısı\", bg = \"pink\")\n",
    "etiket1.grid(padx=10, pady=7)\n",
    "\n",
    "E2 = Entry(uygulama, bd =3)\n",
    "E2.grid(padx=10, pady=7)\n",
    "\n",
    "etiket2 = Label(uygulama,text=\"Açık Büfe Yemekler\", bg = \"pink\")\n",
    "etiket2.grid(padx=175, pady=0)\n",
    "\n",
    "\n",
    "\n"
   ]
  },
  {
   "cell_type": "code",
   "execution_count": 4,
   "id": "85e15f42",
   "metadata": {},
   "outputs": [
    {
     "ename": "NameError",
     "evalue": "name 'dialog' is not defined",
     "output_type": "error",
     "traceback": [
      "\u001b[0;31m---------------------------------------------------------------------------\u001b[0m",
      "\u001b[0;31mNameError\u001b[0m                                 Traceback (most recent call last)",
      "Input \u001b[0;32mIn [4]\u001b[0m, in \u001b[0;36m<cell line: 1>\u001b[0;34m()\u001b[0m\n\u001b[0;32m----> 1\u001b[0m button \u001b[38;5;241m=\u001b[39m Button(uygulama, text \u001b[38;5;241m=\u001b[39m \u001b[38;5;124m\"\u001b[39m\u001b[38;5;124m Var \u001b[39m\u001b[38;5;124m\"\u001b[39m , width\u001b[38;5;241m=\u001b[39m\u001b[38;5;241m10\u001b[39m, command\u001b[38;5;241m=\u001b[39m \u001b[43mdialog\u001b[49m, bg \u001b[38;5;241m=\u001b[39m \u001b[38;5;124m\"\u001b[39m\u001b[38;5;124mlight green\u001b[39m\u001b[38;5;124m\"\u001b[39m)\n\u001b[1;32m      2\u001b[0m button\u001b[38;5;241m.\u001b[39mgrid(padx\u001b[38;5;241m=\u001b[39m\u001b[38;5;241m110\u001b[39m, pady\u001b[38;5;241m=\u001b[39m\u001b[38;5;241m30\u001b[39m)\n",
      "\u001b[0;31mNameError\u001b[0m: name 'dialog' is not defined"
     ]
    }
   ],
   "source": [
    "button = Button(uygulama, text = \" Var \" , width=10, command= dialog, bg = \"light green\")\n",
    "button.grid(padx=110, pady=30)"
   ]
  },
  {
   "cell_type": "code",
   "execution_count": 5,
   "id": "26279a4d",
   "metadata": {},
   "outputs": [
    {
     "ename": "NameError",
     "evalue": "name 'dialog' is not defined",
     "output_type": "error",
     "traceback": [
      "\u001b[0;31m---------------------------------------------------------------------------\u001b[0m",
      "\u001b[0;31mNameError\u001b[0m                                 Traceback (most recent call last)",
      "Input \u001b[0;32mIn [5]\u001b[0m, in \u001b[0;36m<cell line: 1>\u001b[0;34m()\u001b[0m\n\u001b[0;32m----> 1\u001b[0m button \u001b[38;5;241m=\u001b[39m Button(uygulama, text \u001b[38;5;241m=\u001b[39m \u001b[38;5;124m\"\u001b[39m\u001b[38;5;124m Yok \u001b[39m\u001b[38;5;124m\"\u001b[39m , width\u001b[38;5;241m=\u001b[39m\u001b[38;5;241m10\u001b[39m, command\u001b[38;5;241m=\u001b[39m\u001b[43mdialog\u001b[49m, bg \u001b[38;5;241m=\u001b[39m \u001b[38;5;124m\"\u001b[39m\u001b[38;5;124myellow\u001b[39m\u001b[38;5;124m\"\u001b[39m)\n\u001b[1;32m      2\u001b[0m button\u001b[38;5;241m.\u001b[39mgrid(padx\u001b[38;5;241m=\u001b[39m\u001b[38;5;241m110\u001b[39m, pady\u001b[38;5;241m=\u001b[39m\u001b[38;5;241m0\u001b[39m)\n",
      "\u001b[0;31mNameError\u001b[0m: name 'dialog' is not defined"
     ]
    }
   ],
   "source": [
    "button = Button(uygulama, text = \" Yok \" , width=10, command=dialog, bg = \"yellow\")\n",
    "button.grid(padx=110, pady=0)"
   ]
  },
  {
   "cell_type": "code",
   "execution_count": 6,
   "id": "d4cf7c6f",
   "metadata": {},
   "outputs": [],
   "source": [
    "etiket3 = Label(uygulama,text=\"Otel Nerede?\", bg = \"pink\")\n",
    "etiket3.grid(padx=5, pady=10)"
   ]
  },
  {
   "cell_type": "code",
   "execution_count": 7,
   "id": "a8c7c6cd",
   "metadata": {},
   "outputs": [],
   "source": [
    "Lb1 = Listbox(uygulama, bg = \"white\")\n",
    "\n",
    "Lb1.insert(1,\"Adana\")\n",
    "Lb1.insert(2,\"Ankara\")\n",
    "Lb1.insert(3,\"Bursa\")\n",
    "Lb1.insert(4,\"Denizli\")\n",
    "Lb1.insert(5,\"Van\")\n",
    "Lb1.insert(6,\"İstanbul\")\n",
    "Lb1.insert(7,\"Mersin\")\n",
    "Lb1.insert(8,\"Hatay\")\n",
    "Lb1.insert(9,\"Muğla\")\n",
    "Lb1.insert(10,\"Malatya\")\n",
    "Lb1.insert(11,\"Konya\")\n",
    "Lb1.insert(11,\"Balıkesir\")\n",
    "Lb1.insert(11,\"Iğdır\")\n",
    "Lb1.insert(11,\"Hakkari\")\n",
    "Lb1.insert(11,\"Zonguldak\")\n",
    "Lb1.insert(11,\"Erzurum\")\n",
    "Lb1.insert(11,\"Erzincan\")\n",
    "Lb1.insert(11,\"Sivas\")\n",
    "Lb1.insert(11,\"Diyarbakır\")\n",
    "Lb1.insert(11,\"Mardin\")\n",
    "Lb1.insert(11,\"Edirne\")\n",
    "Lb1.insert(11,\"Tekirdağ\")\n",
    "Lb1.insert(11,\"Aksaray\")\n",
    "Lb1.insert(11,\"Yalova\")\n",
    "Lb1.insert(11,\"Çanakkale\")\n",
    "Lb1.insert(11,\"Trabzon\")\n",
    "Lb1.insert(11,\"Rize\")\n",
    "Lb1.grid(padx=110, pady=10)"
   ]
  },
  {
   "cell_type": "code",
   "execution_count": 8,
   "id": "19c5b237",
   "metadata": {},
   "outputs": [],
   "source": [
    "def dialog():\n",
    "    var = messagebox.showinfo(\"Sonuç\" , \"Başarıyla tahmin edildi\")\n",
    "button = Button(uygulama, text = \"Tahmin Et\" , width=20, command=dialog, bg = \"white\")\n",
    "button.grid(padx=110, pady=80)"
   ]
  },
  {
   "cell_type": "code",
   "execution_count": 9,
   "id": "ec290e27",
   "metadata": {},
   "outputs": [],
   "source": [
    "pencere.mainloop()"
   ]
  },
  {
   "cell_type": "code",
   "execution_count": null,
   "id": "a5580efa",
   "metadata": {},
   "outputs": [],
   "source": []
  },
  {
   "cell_type": "code",
   "execution_count": null,
   "id": "64e5b0c8",
   "metadata": {},
   "outputs": [],
   "source": []
  }
 ],
 "metadata": {
  "kernelspec": {
   "display_name": "Python 3 (ipykernel)",
   "language": "python",
   "name": "python3"
  },
  "language_info": {
   "codemirror_mode": {
    "name": "ipython",
    "version": 3
   },
   "file_extension": ".py",
   "mimetype": "text/x-python",
   "name": "python",
   "nbconvert_exporter": "python",
   "pygments_lexer": "ipython3",
   "version": "3.9.12"
  }
 },
 "nbformat": 4,
 "nbformat_minor": 5
}
